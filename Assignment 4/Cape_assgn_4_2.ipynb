{
 "cells": [
  {
   "cell_type": "code",
   "execution_count": 200,
   "metadata": {},
   "outputs": [],
   "source": [
    "import sympy as sp\n",
    "import time\n",
    "from tabulate import tabulate\n",
    "import matplotlib.pyplot as plt\n",
    "import numpy as np"
   ]
  },
  {
   "cell_type": "code",
   "execution_count": 201,
   "metadata": {},
   "outputs": [],
   "source": [
    "values = {\n",
    "    'F': 50,\n",
    "    'D': 25,\n",
    "    'M': 400,\n",
    "    'Mc': 4000,\n",
    "    'Mr': 4000,\n",
    "    'Z1': 0.5,\n",
    "    'N': 10,\n",
    "    'al': 2.5,\n",
    "    'V': 60\n",
    "\n",
    "}"
   ]
  },
  {
   "cell_type": "code",
   "execution_count": 202,
   "metadata": {},
   "outputs": [],
   "source": [
    "F, D, M, Mc, Mr, Z1, N, alpha, V, L, B = sp.symbols('F D M Mc Mr Z1 N alpha V L B ', real=True)"
   ]
  },
  {
   "cell_type": "code",
   "execution_count": 203,
   "metadata": {},
   "outputs": [],
   "source": [
    "B=F-D"
   ]
  },
  {
   "cell_type": "code",
   "execution_count": 204,
   "metadata": {},
   "outputs": [
    {
     "data": {
      "text/latex": [
       "$\\displaystyle 25.0$"
      ],
      "text/plain": [
       "25.0000000000000"
      ]
     },
     "execution_count": 204,
     "metadata": {},
     "output_type": "execute_result"
    }
   ],
   "source": [
    "B = B.subs([\n",
    "    (F, values['F']),\n",
    "    (D, values['D']),\n",
    "]).evalf()\n",
    "B"
   ]
  },
  {
   "cell_type": "code",
   "execution_count": 205,
   "metadata": {},
   "outputs": [],
   "source": [
    "L=B+V"
   ]
  },
  {
   "cell_type": "code",
   "execution_count": 206,
   "metadata": {},
   "outputs": [
    {
     "data": {
      "text/latex": [
       "$\\displaystyle 85.0$"
      ],
      "text/plain": [
       "85.0000000000000"
      ]
     },
     "execution_count": 206,
     "metadata": {},
     "output_type": "execute_result"
    }
   ],
   "source": [
    "L = L.subs([\n",
    "    (V, values['V']),\n",
    "]).evalf()\n",
    "L"
   ]
  },
  {
   "cell_type": "code",
   "execution_count": 207,
   "metadata": {},
   "outputs": [],
   "source": [
    "def y_initial(alpha,x_initial):\n",
    "  return alpha*x_initial/(1+(alpha-1)*x_initial)"
   ]
  },
  {
   "cell_type": "code",
   "execution_count": 208,
   "metadata": {},
   "outputs": [],
   "source": [
    "def x_initial(alpha,y_initial):\n",
    "  return y_initial/(alpha+(1-alpha)*y_initial)"
   ]
  },
  {
   "cell_type": "code",
   "execution_count": 209,
   "metadata": {},
   "outputs": [],
   "source": [
    "def xb(xd,x_f):\n",
    "  return ((F*x_f-D*xd)/B).subs([\n",
    "    (F, values['F']),\n",
    "    (D, values['D']),\n",
    "]).evalf()\n"
   ]
  },
  {
   "cell_type": "code",
   "execution_count": 210,
   "metadata": {},
   "outputs": [],
   "source": [
    "#Function that returns the concentration in each plate of column\n",
    "def distillation(alpha,kth_plate):\n",
    "    y_initial_in=y_initial(alpha,0.5)\n",
    "    X=np.array([0.5,0.5,0.5,0.5,0.5,0.5,0.5,0.5,0.5,0.5])\n",
    "    Y=np.array([y_initial_in,y_initial_in,y_initial_in,y_initial_in,y_initial_in,y_initial_in,y_initial_in,y_initial_in,y_initial_in,y_initial_in])\n",
    "    iter=0\n",
    "    xd=0.9\n",
    "    X[0]=xd\n",
    "\n",
    "    X[9]=xb(xd,0.5)\n",
    "\n",
    "    while(iter!=50):\n",
    "    \n",
    "        X[9]=xb(X[0],0.5)\n",
    "        i=kth_plate-2\n",
    "        while(i!=-1):\n",
    "            X[i]=((Y[i+1]-D*X[0]/(L+D))*(L+D)/L).subs([\n",
    "                                        (D, values['D']),\n",
    "                                        ]).evalf()\n",
    "            Y[i]=y_initial(alpha,X[i])\n",
    "            i-=1\n",
    "\n",
    "\n",
    "        i=kth_plate\n",
    "        while(i!=9):\n",
    "            Y[i]=(L*X[i-1]/V-B*X[9]/V).subs([\n",
    "                                        (V, values['V']),\n",
    "                                        ]).evalf()\n",
    "            X[i]=x_initial(alpha,Y[i])\n",
    "            i+=1\n",
    "\n",
    "        iter+=1\n",
    "        Y[9]=y_initial(alpha,X[9])\n",
    "\n",
    "    return X"
   ]
  },
  {
   "cell_type": "code",
   "execution_count": 211,
   "metadata": {},
   "outputs": [
    {
     "name": "stdout",
     "output_type": "stream",
     "text": [
      "The steady state composition when feed enters through plate - 4 is: [0.91037092 0.80248229 0.6566136  0.5        0.44926663 0.37413705\n",
      " 0.27977768 0.18302726 0.10241553 0.08962908]\n",
      "The steady state composition when feed enters through plate - 5 is: [0.95020776 0.88417051 0.78105832 0.64489688 0.5        0.46818544\n",
      " 0.41824308 0.34813712 0.26374136 0.04979224]\n",
      "The steady state composition when feed enters through plate - 6 is: [0.97272626 0.93449548 0.8691152  0.76887092 0.63827379 0.5\n",
      " 0.47916617 0.44532071 0.39440461 0.02727374]\n"
     ]
    }
   ],
   "source": [
    "print(f\"The steady state composition when feed enters through plate - 4 is: {distillation(2.5, 4)}\")\n",
    "print(f\"The steady state composition when feed enters through plate - 5 is: {distillation(2.5, 5)}\")\n",
    "print(f\"The steady state composition when feed enters through plate - 6 is: {distillation(2.5, 6)}\")"
   ]
  }
 ],
 "metadata": {
  "kernelspec": {
   "display_name": "Python 3",
   "language": "python",
   "name": "python3"
  },
  "language_info": {
   "codemirror_mode": {
    "name": "ipython",
    "version": 3
   },
   "file_extension": ".py",
   "mimetype": "text/x-python",
   "name": "python",
   "nbconvert_exporter": "python",
   "pygments_lexer": "ipython3",
   "version": "3.10.6"
  },
  "orig_nbformat": 4,
  "vscode": {
   "interpreter": {
    "hash": "26de051ba29f2982a8de78e945f0abaf191376122a1563185a90213a26c5da77"
   }
  }
 },
 "nbformat": 4,
 "nbformat_minor": 2
}
