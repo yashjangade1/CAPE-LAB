{
 "cells": [
  {
   "cell_type": "code",
   "execution_count": 15,
   "metadata": {},
   "outputs": [],
   "source": [
    "import sympy as sp\n",
    "import time\n",
    "from tabulate import tabulate\n",
    "import matplotlib.pyplot as plt\n",
    "import numpy as np\n",
    "import math"
   ]
  },
  {
   "cell_type": "code",
   "execution_count": 16,
   "metadata": {},
   "outputs": [],
   "source": [
    "#write units for below variables\n",
    "values = {\n",
    "    'F': 1, #m^3/hr\n",
    "    'CAf': 10, #kgmol/m^3\n",
    "    'V' :1,#m^3\n",
    "    'UA': 150, #kcal/degC-hr\n",
    "    'k0' : 36*1e6, #h-1\n",
    "    'Tj0' : 298, #K\n",
    "    '-delH': 6500, #kcal/kgmol\n",
    "    'rhojCj': 600, #kcal/m^3-degC\n",
    "    'E' : 12000, #kcal/kgmol\n",
    "    'Fj' :1.25, #m^3/hr\n",
    "    'rhoCp': 500, #kcal/m^3-degC\n",
    "    \"Vj\" : 0.25, #m^3\n",
    "    'Tf' : 298, #K\n",
    "    'R': 1.987 #kcal/kgmol-K\n",
    "}"
   ]
  },
  {
   "cell_type": "code",
   "execution_count": 28,
   "metadata": {},
   "outputs": [],
   "source": [
    "F, C_Af, V, UA, k0, Tj0, neg_delH, rhojCj, E, Fj, rhoCp, Vj, Tf, C_a, T, Tj, r, R = sp.symbols('F C_Af V UA k0 T_j0 -delH rho_jC_j E F_j rhoCp V_j T_f C_a T T_j r R', real = True)"
   ]
  },
  {
   "cell_type": "code",
   "execution_count": 29,
   "metadata": {},
   "outputs": [
    {
     "data": {
      "text/latex": [
       "$\\displaystyle C_{a} k_{0} e^{- \\frac{E}{R T}}$"
      ],
      "text/plain": [
       "C_a*k0*exp(-E/(R*T))"
      ]
     },
     "execution_count": 29,
     "metadata": {},
     "output_type": "execute_result"
    }
   ],
   "source": [
    "r = sp.exp(-E/(R*T))*C_a*k0\n",
    "r"
   ]
  },
  {
   "cell_type": "code",
   "execution_count": 31,
   "metadata": {},
   "outputs": [
    {
     "data": {
      "text/latex": [
       "$\\displaystyle C_{Af} F - C_{a} F - C_{a} V k_{0} e^{- \\frac{E}{R T}}$"
      ],
      "text/plain": [
       "C_Af*F - C_a*F - C_a*V*k0*exp(-E/(R*T))"
      ]
     },
     "execution_count": 31,
     "metadata": {},
     "output_type": "execute_result"
    }
   ],
   "source": [
    "f_1 = F*C_Af - F*C_a - r*V\n",
    "f_1"
   ]
  },
  {
   "cell_type": "code",
   "execution_count": 32,
   "metadata": {},
   "outputs": [
    {
     "data": {
      "text/latex": [
       "$\\displaystyle -delH C_{a} V k_{0} e^{- \\frac{E}{R T}} + F rhoCp \\left(- T + T_{f}\\right) - UA \\left(T - T_{j}\\right)$"
      ],
      "text/plain": [
       "-delH*C_a*V*k0*exp(-E/(R*T)) + F*rhoCp*(-T + T_f) - UA*(T - T_j)"
      ]
     },
     "execution_count": 32,
     "metadata": {},
     "output_type": "execute_result"
    }
   ],
   "source": [
    "f_2 = rhoCp*F*(Tf-T) - UA*(T-Tj) + r*V*neg_delH\n",
    "f_2"
   ]
  },
  {
   "cell_type": "code",
   "execution_count": 34,
   "metadata": {},
   "outputs": [
    {
     "data": {
      "text/latex": [
       "$\\displaystyle F_{j} \\rho_{jC j} \\left(- T_{j} + T_{j0}\\right) - UA \\left(T - T_{j}\\right)$"
      ],
      "text/plain": [
       "F_j*rho_jC_j*(-T_j + T_j0) - UA*(T - T_j)"
      ]
     },
     "execution_count": 34,
     "metadata": {},
     "output_type": "execute_result"
    }
   ],
   "source": [
    "f_3 = rhojCj*Fj*(Tj0-Tj) - UA*(T-Tj)\n",
    "f_3"
   ]
  },
  {
   "cell_type": "code",
   "execution_count": 43,
   "metadata": {},
   "outputs": [
    {
     "data": {
      "text/latex": [
       "$\\displaystyle \\left[\\begin{matrix}C_{Af} F - C_{a} F - C_{a} V k_{0} e^{- \\frac{E}{R T}}\\\\-delH C_{a} V k_{0} e^{- \\frac{E}{R T}} + F rhoCp \\left(- T + T_{f}\\right) - UA \\left(T - T_{j}\\right)\\\\F_{j} \\rho_{jC j} \\left(- T_{j} + T_{j0}\\right) - UA \\left(T - T_{j}\\right)\\end{matrix}\\right]$"
      ],
      "text/plain": [
       "Matrix([\n",
       "[                         C_Af*F - C_a*F - C_a*V*k0*exp(-E/(R*T))],\n",
       "[-delH*C_a*V*k0*exp(-E/(R*T)) + F*rhoCp*(-T + T_f) - UA*(T - T_j)],\n",
       "[                       F_j*rho_jC_j*(-T_j + T_j0) - UA*(T - T_j)]])"
      ]
     },
     "execution_count": 43,
     "metadata": {},
     "output_type": "execute_result"
    }
   ],
   "source": [
    "#Generating a matrix of the equations\n",
    "f = sp.Matrix([f_1, f_2, f_3])\n",
    "f"
   ]
  },
  {
   "cell_type": "code",
   "execution_count": 36,
   "metadata": {},
   "outputs": [
    {
     "data": {
      "text/latex": [
       "$\\displaystyle \\left[\\begin{matrix}- F - V k_{0} e^{- \\frac{E}{R T}} & - \\frac{C_{a} E V k_{0} e^{- \\frac{E}{R T}}}{R T^{2}} & 0\\\\-delH V k_{0} e^{- \\frac{E}{R T}} & \\frac{-delH C_{a} E V k_{0} e^{- \\frac{E}{R T}}}{R T^{2}} - F rhoCp - UA & UA\\\\0 & - UA & - F_{j} \\rho_{jC j} + UA\\end{matrix}\\right]$"
      ],
      "text/plain": [
       "Matrix([\n",
       "[ -F - V*k0*exp(-E/(R*T)),                     -C_a*E*V*k0*exp(-E/(R*T))/(R*T**2),                  0],\n",
       "[-delH*V*k0*exp(-E/(R*T)), -delH*C_a*E*V*k0*exp(-E/(R*T))/(R*T**2) - F*rhoCp - UA,                 UA],\n",
       "[                       0,                                                    -UA, -F_j*rho_jC_j + UA]])"
      ]
     },
     "execution_count": 36,
     "metadata": {},
     "output_type": "execute_result"
    }
   ],
   "source": [
    "#Generating Jacobian matrix\n",
    "J = sp.Matrix([f_1, f_2, f_3]).jacobian([C_a, T, Tj])\n",
    "J"
   ]
  },
  {
   "cell_type": "code",
   "execution_count": 49,
   "metadata": {},
   "outputs": [
    {
     "data": {
      "text/latex": [
       "$\\displaystyle \\left[\\begin{matrix}- C_{a} - 36000000.0 C_{a} e^{- \\frac{6039.25515853045}{T}} + 10\\\\234000000000.0 C_{a} e^{- \\frac{6039.25515853045}{T}} - 650 T + 150 T_{j} + 149000\\\\- 150 T - 600.0 T_{j} + 223500.0\\end{matrix}\\right]$"
      ],
      "text/plain": [
       "Matrix([\n",
       "[                   -C_a - 36000000.0*C_a*exp(-6039.25515853045/T) + 10],\n",
       "[234000000000.0*C_a*exp(-6039.25515853045/T) - 650*T + 150*T_j + 149000],\n",
       "[                                         -150*T - 600.0*T_j + 223500.0]])"
      ]
     },
     "execution_count": 49,
     "metadata": {},
     "output_type": "execute_result"
    }
   ],
   "source": [
    "f = f.subs([\n",
    "    (F, values['F']),\n",
    "    (C_Af, values['CAf']),\n",
    "    (V, values['V']),\n",
    "    (UA, values['UA']),\n",
    "    (k0, values['k0']),\n",
    "    (Tj0, values['Tj0']),\n",
    "    (neg_delH, values['-delH']),\n",
    "    (rhojCj, values['rhojCj']),\n",
    "    (E, values['E']),\n",
    "    (Fj, values['Fj']),\n",
    "    (rhoCp, values['rhoCp']),\n",
    "    (Vj, values['Vj']),\n",
    "    (Tf, values['Tf']),\n",
    "    (R, values['R'])\n",
    "])\n",
    "f"
   ]
  },
  {
   "cell_type": "code",
   "execution_count": 50,
   "metadata": {},
   "outputs": [
    {
     "data": {
      "text/latex": [
       "$\\displaystyle \\left[\\begin{matrix}-1 - 36000000.0 e^{- \\frac{6039.25515853045}{T}} & - \\frac{217413185707.096 C_{a} e^{- \\frac{6039.25515853045}{T}}}{T^{2}} & 0\\\\234000000000.0 e^{- \\frac{6039.25515853045}{T}} & \\frac{1.41318570709612 \\cdot 10^{15} C_{a} e^{- \\frac{6039.25515853045}{T}}}{T^{2}} - 650 & 150\\\\0 & -150 & -600.0\\end{matrix}\\right]$"
      ],
      "text/plain": [
       "Matrix([\n",
       "[-1 - 36000000.0*exp(-6039.25515853045/T),          -217413185707.096*C_a*exp(-6039.25515853045/T)/T**2,      0],\n",
       "[ 234000000000.0*exp(-6039.25515853045/T), 1.41318570709612e+15*C_a*exp(-6039.25515853045/T)/T**2 - 650,    150],\n",
       "[                                       0,                                                         -150, -600.0]])"
      ]
     },
     "execution_count": 50,
     "metadata": {},
     "output_type": "execute_result"
    }
   ],
   "source": [
    "J = J.subs([\n",
    "    (F, values['F']),\n",
    "    (C_Af, values['CAf']),\n",
    "    (V, values['V']),\n",
    "    (UA, values['UA']),\n",
    "    (k0, values['k0']),\n",
    "    (Tj0, values['Tj0']),\n",
    "    (neg_delH, values['-delH']),\n",
    "    (rhojCj, values['rhojCj']),\n",
    "    (E, values['E']),\n",
    "    (Fj, values['Fj']),\n",
    "    (rhoCp, values['rhoCp']),\n",
    "    (Vj, values['Vj']),\n",
    "    (Tf, values['Tf']),\n",
    "    (R, values['R'])\n",
    "])\n",
    "J"
   ]
  },
  {
   "cell_type": "code",
   "execution_count": 75,
   "metadata": {},
   "outputs": [],
   "source": [
    "#Define function for multivariate Newton-Raphson which stops when tolerance limit is reached and has no maximum number of iterations and keeps count of number of iterations\n",
    "def newton_raphson(f, J, x0, tol = 1e-6, max_iter = 1000):\n",
    "    decimal_places = int(-sp.log(tol, 10).evalf()+1)\n",
    "    x = x0\n",
    "    iter = 0\n",
    "    while iter<max_iter:\n",
    "        iter += 1\n",
    "        x_new = (x - (J.inv()*f).subs([(C_a, x[0]), (T, x[1]), (Tj, x[2])]))\n",
    "        #rounding off to the number of decimal places in tolerance\n",
    "        x_new = sp.Matrix([round(x_new[0].evalf(), decimal_places), round(x_new[1].evalf(), decimal_places), round(x_new[2].evalf(), decimal_places)])\n",
    "        # x_new = [round(x_new[0].evalf(), decimal_places), round(x_new[1].evalf(), decimal_places), round(x_new[2].evalf(), decimal_places)]\n",
    "        if (abs(x_new[0]-x[0])+abs(x_new[1]-x[1])+abs(x_new[2]-x[2])) < tol:\n",
    "            break\n",
    "        x = x_new\n",
    "    return x_new"
   ]
  },
  {
   "cell_type": "code",
   "execution_count": 77,
   "metadata": {},
   "outputs": [
    {
     "name": "stdout",
     "output_type": "stream",
     "text": [
      "Matrix([[9.0845800], [306.6548799], [295.8362800]])\n",
      "Time taken: 5.302950143814087\n"
     ]
    }
   ],
   "source": [
    "initial_guess = sp.Matrix([0.5, 300, 300])\n",
    "tol = 1e-6\n",
    "start = time.time()\n",
    "print(newton_raphson(f, J, initial_guess, tol))\n",
    "end = time.time()\n",
    "print(\"Time taken:\", end - start)"
   ]
  },
  {
   "cell_type": "code",
   "execution_count": 80,
   "metadata": {},
   "outputs": [
    {
     "name": "stdout",
     "output_type": "stream",
     "text": [
      "Matrix([[9.0845800], [306.6548799], [295.8362800]])\n",
      "Time taken: 6.310132026672363\n"
     ]
    }
   ],
   "source": [
    "initial_guess = sp.Matrix([9, 200, 300])\n",
    "tol = 1e-6\n",
    "start = time.time()\n",
    "print(newton_raphson(f, J, initial_guess, tol))\n",
    "end = time.time()\n",
    "print(\"Time taken:\", end - start)"
   ]
  },
  {
   "cell_type": "code",
   "execution_count": 79,
   "metadata": {},
   "outputs": [
    {
     "name": "stdout",
     "output_type": "stream",
     "text": [
      "Matrix([[9.0845800], [306.6548799], [295.8362800]])\n",
      "Time taken: 5.254057168960571\n"
     ]
    }
   ],
   "source": [
    "initial_guess = sp.Matrix([0.5, 300, 200])\n",
    "tol = 1e-6\n",
    "start = time.time()\n",
    "print(newton_raphson(f, J, initial_guess, tol))\n",
    "end = time.time()\n",
    "print(\"Time taken:\", end - start)"
   ]
  },
  {
   "cell_type": "code",
   "execution_count": null,
   "metadata": {},
   "outputs": [],
   "source": [
    "+"
   ]
  }
 ],
 "metadata": {
  "kernelspec": {
   "display_name": "Python 3",
   "language": "python",
   "name": "python3"
  },
  "language_info": {
   "codemirror_mode": {
    "name": "ipython",
    "version": 3
   },
   "file_extension": ".py",
   "mimetype": "text/x-python",
   "name": "python",
   "nbconvert_exporter": "python",
   "pygments_lexer": "ipython3",
   "version": "3.8.10"
  },
  "orig_nbformat": 4,
  "vscode": {
   "interpreter": {
    "hash": "916dbcbb3f70747c44a77c7bcd40155683ae19c65e1c03b4aa3499c5328201f1"
   }
  }
 },
 "nbformat": 4,
 "nbformat_minor": 2
}
