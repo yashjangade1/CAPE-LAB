{
 "cells": [
  {
   "cell_type": "code",
   "execution_count": 1,
   "metadata": {},
   "outputs": [],
   "source": [
    "import sympy as sp\n",
    "import time\n",
    "from tabulate import tabulate\n",
    "import matplotlib.pyplot as plt\n",
    "import numpy as np\n",
    "import math"
   ]
  },
  {
   "cell_type": "code",
   "execution_count": 51,
   "metadata": {},
   "outputs": [],
   "source": [
    "#write units for below variables\n",
    "values = {\n",
    "    'F': 1, #m^3/hr\n",
    "    'CAf': 10, #kgmol/m^3\n",
    "    'V' :1,#m^3\n",
    "    'UA': 150, #kcal/degC-hr\n",
    "    'k0' : 36*1e6, #h-1\n",
    "    'Tj0' : 298, #K\n",
    "    '-delH': 6500, #kcal/kgmol\n",
    "    'rhojCj': 600, #kcal/m^3-degC\n",
    "    'E' : 12000, #kcal/kgmol\n",
    "    'Fj' :1.25, #m^3/hr\n",
    "    'rhoCp': 500, #kcal/m^3-degC\n",
    "    \"Vj\" : 0.25, #m^3\n",
    "    'Tf' : 298, #K\n",
    "    'R': 1.987 #kcal/kgmol-K\n",
    "}"
   ]
  },
  {
   "cell_type": "code",
   "execution_count": 52,
   "metadata": {},
   "outputs": [],
   "source": [
    "F, C_Af, V, UA, k0, Tj0, neg_delH, rhojCj, E, Fj, rhoCp, Vj, Tf, C_a, T, Tj, r, R = sp.symbols('F C_Af V UA k0 T_j0 -delH rho_jC_j E F_j rhoCp V_j T_f C_a T T_j r R', real = True)"
   ]
  },
  {
   "cell_type": "code",
   "execution_count": 53,
   "metadata": {},
   "outputs": [
    {
     "data": {
      "text/latex": [
       "$\\displaystyle 1.0 C_{a} k_{0} e^{- \\frac{E}{R T}}$"
      ],
      "text/plain": [
       "1.0*C_a*k0*exp(-E/(R*T))"
      ]
     },
     "execution_count": 53,
     "metadata": {},
     "output_type": "execute_result"
    }
   ],
   "source": [
    "r = sp.exp(-E/(R*T))*C_a*k0*1.0\n",
    "r"
   ]
  },
  {
   "cell_type": "code",
   "execution_count": 54,
   "metadata": {},
   "outputs": [
    {
     "data": {
      "text/latex": [
       "$\\displaystyle 1.0 C_{Af} F - 1.0 C_{a} F - 1.0 C_{a} V k_{0} e^{- \\frac{E}{R T}}$"
      ],
      "text/plain": [
       "1.0*C_Af*F - 1.0*C_a*F - 1.0*C_a*V*k0*exp(-E/(R*T))"
      ]
     },
     "execution_count": 54,
     "metadata": {},
     "output_type": "execute_result"
    }
   ],
   "source": [
    "f_1 = 1.0*(F*C_Af - F*C_a - r*V)\n",
    "f_1"
   ]
  },
  {
   "cell_type": "code",
   "execution_count": 55,
   "metadata": {},
   "outputs": [
    {
     "data": {
      "text/latex": [
       "$\\displaystyle 1.0 -delH C_{a} V k_{0} e^{- \\frac{E}{R T}} + 1.0 F rhoCp \\left(- T + T_{f}\\right) - 1.0 UA \\left(T - T_{j}\\right)$"
      ],
      "text/plain": [
       "1.0*-delH*C_a*V*k0*exp(-E/(R*T)) + 1.0*F*rhoCp*(-T + T_f) - 1.0*UA*(T - T_j)"
      ]
     },
     "execution_count": 55,
     "metadata": {},
     "output_type": "execute_result"
    }
   ],
   "source": [
    "f_2 = 1.0*(rhoCp*F*(Tf-T) - UA*(T-Tj) + r*V*neg_delH)\n",
    "f_2"
   ]
  },
  {
   "cell_type": "code",
   "execution_count": 70,
   "metadata": {},
   "outputs": [
    {
     "data": {
      "text/latex": [
       "$\\displaystyle 1.0 F_{j} \\rho_{jC j} \\left(- T_{j} + T_{j0}\\right) + 1.0 UA \\left(T - T_{j}\\right)$"
      ],
      "text/plain": [
       "1.0*F_j*rho_jC_j*(-T_j + T_j0) + 1.0*UA*(T - T_j)"
      ]
     },
     "execution_count": 70,
     "metadata": {},
     "output_type": "execute_result"
    }
   ],
   "source": [
    "f_3 = 1.0*(rhojCj*Fj*(Tj0-Tj) + UA*(T-Tj))\n",
    "f_3"
   ]
  },
  {
   "cell_type": "code",
   "execution_count": 71,
   "metadata": {},
   "outputs": [
    {
     "data": {
      "text/latex": [
       "$\\displaystyle \\left[\\begin{matrix}1.0 C_{Af} F - 1.0 C_{a} F - 1.0 C_{a} V k_{0} e^{- \\frac{E}{R T}}\\\\1.0 -delH C_{a} V k_{0} e^{- \\frac{E}{R T}} + 1.0 F rhoCp \\left(- T + T_{f}\\right) - 1.0 UA \\left(T - T_{j}\\right)\\\\1.0 F_{j} \\rho_{jC j} \\left(- T_{j} + T_{j0}\\right) + 1.0 UA \\left(T - T_{j}\\right)\\end{matrix}\\right]$"
      ],
      "text/plain": [
       "Matrix([\n",
       "[                         1.0*C_Af*F - 1.0*C_a*F - 1.0*C_a*V*k0*exp(-E/(R*T))],\n",
       "[1.0*-delH*C_a*V*k0*exp(-E/(R*T)) + 1.0*F*rhoCp*(-T + T_f) - 1.0*UA*(T - T_j)],\n",
       "[                           1.0*F_j*rho_jC_j*(-T_j + T_j0) + 1.0*UA*(T - T_j)]])"
      ]
     },
     "execution_count": 71,
     "metadata": {},
     "output_type": "execute_result"
    }
   ],
   "source": [
    "#Generating a matrix of the equations\n",
    "f = sp.Matrix([f_1, f_2, f_3])\n",
    "f"
   ]
  },
  {
   "cell_type": "code",
   "execution_count": 72,
   "metadata": {},
   "outputs": [
    {
     "data": {
      "text/latex": [
       "$\\displaystyle \\left[\\begin{matrix}- 1.0 F - 1.0 V k_{0} e^{- \\frac{E}{R T}} & - \\frac{1.0 C_{a} E V k_{0} e^{- \\frac{E}{R T}}}{R T^{2}} & 0\\\\1.0 -delH V k_{0} e^{- \\frac{E}{R T}} & \\frac{1.0 -delH C_{a} E V k_{0} e^{- \\frac{E}{R T}}}{R T^{2}} - 1.0 F rhoCp - 1.0 UA & 1.0 UA\\\\0 & 1.0 UA & - 1.0 F_{j} \\rho_{jC j} - 1.0 UA\\end{matrix}\\right]$"
      ],
      "text/plain": [
       "Matrix([\n",
       "[-1.0*F - 1.0*V*k0*exp(-E/(R*T)),                             -1.0*C_a*E*V*k0*exp(-E/(R*T))/(R*T**2),                          0],\n",
       "[   1.0*-delH*V*k0*exp(-E/(R*T)), 1.0*-delH*C_a*E*V*k0*exp(-E/(R*T))/(R*T**2) - 1.0*F*rhoCp - 1.0*UA,                     1.0*UA],\n",
       "[                              0,                                                             1.0*UA, -1.0*F_j*rho_jC_j - 1.0*UA]])"
      ]
     },
     "execution_count": 72,
     "metadata": {},
     "output_type": "execute_result"
    }
   ],
   "source": [
    "#Generating Jacobian matrix\n",
    "J = sp.Matrix([f_1, f_2, f_3]).jacobian([C_a, T, Tj])\n",
    "J"
   ]
  },
  {
   "cell_type": "code",
   "execution_count": 73,
   "metadata": {},
   "outputs": [
    {
     "data": {
      "text/latex": [
       "$\\displaystyle \\left[\\begin{matrix}- 1.0 C_{a} - 36000000.0 C_{a} e^{- \\frac{6039.25515853045}{T}} + 10.0\\\\234000000000.0 C_{a} e^{- \\frac{6039.25515853045}{T}} - 650.0 T + 150.0 T_{j} + 149000.0\\\\150.0 T - 900.0 T_{j} + 223500.0\\end{matrix}\\right]$"
      ],
      "text/plain": [
       "Matrix([\n",
       "[                   -1.0*C_a - 36000000.0*C_a*exp(-6039.25515853045/T) + 10.0],\n",
       "[234000000000.0*C_a*exp(-6039.25515853045/T) - 650.0*T + 150.0*T_j + 149000.0],\n",
       "[                                              150.0*T - 900.0*T_j + 223500.0]])"
      ]
     },
     "execution_count": 73,
     "metadata": {},
     "output_type": "execute_result"
    }
   ],
   "source": [
    "f = f.subs([\n",
    "    (F, values['F']),\n",
    "    (C_Af, values['CAf']),\n",
    "    (V, values['V']),\n",
    "    (UA, values['UA']),\n",
    "    (k0, values['k0']),\n",
    "    (Tj0, values['Tj0']),\n",
    "    (neg_delH, values['-delH']),\n",
    "    (rhojCj, values['rhojCj']),\n",
    "    (E, values['E']),\n",
    "    (Fj, values['Fj']),\n",
    "    (rhoCp, values['rhoCp']),\n",
    "    (Vj, values['Vj']),\n",
    "    (Tf, values['Tf']),\n",
    "    (R, values['R'])\n",
    "])\n",
    "f"
   ]
  },
  {
   "cell_type": "code",
   "execution_count": 74,
   "metadata": {},
   "outputs": [
    {
     "data": {
      "text/latex": [
       "$\\displaystyle \\left[\\begin{matrix}-1.0 - 36000000.0 e^{- \\frac{6039.25515853045}{T}} & - \\frac{217413185707.096 C_{a} e^{- \\frac{6039.25515853045}{T}}}{T^{2}} & 0\\\\234000000000.0 e^{- \\frac{6039.25515853045}{T}} & \\frac{1.41318570709612 \\cdot 10^{15} C_{a} e^{- \\frac{6039.25515853045}{T}}}{T^{2}} - 650.0 & 150.0\\\\0 & 150.0 & -900.0\\end{matrix}\\right]$"
      ],
      "text/plain": [
       "Matrix([\n",
       "[-1.0 - 36000000.0*exp(-6039.25515853045/T),            -217413185707.096*C_a*exp(-6039.25515853045/T)/T**2,      0],\n",
       "[   234000000000.0*exp(-6039.25515853045/T), 1.41318570709612e+15*C_a*exp(-6039.25515853045/T)/T**2 - 650.0,  150.0],\n",
       "[                                         0,                                                          150.0, -900.0]])"
      ]
     },
     "execution_count": 74,
     "metadata": {},
     "output_type": "execute_result"
    }
   ],
   "source": [
    "J = J.subs([\n",
    "    (F, values['F']),\n",
    "    (C_Af, values['CAf']),\n",
    "    (V, values['V']),\n",
    "    (UA, values['UA']),\n",
    "    (k0, values['k0']),\n",
    "    (Tj0, values['Tj0']),\n",
    "    (neg_delH, values['-delH']),\n",
    "    (rhojCj, values['rhojCj']),\n",
    "    (E, values['E']),\n",
    "    (Fj, values['Fj']),\n",
    "    (rhoCp, values['rhoCp']),\n",
    "    (Vj, values['Vj']),\n",
    "    (Tf, values['Tf']),\n",
    "    (R, values['R'])\n",
    "])\n",
    "J"
   ]
  },
  {
   "cell_type": "code",
   "execution_count": 91,
   "metadata": {},
   "outputs": [],
   "source": [
    "def newton_raphson(f, J, x0, l, tol = 1e-6):\n",
    "    decimal_places = int(-sp.log(tol, 10).evalf()+1)\n",
    "    x = x0\n",
    "    iter = 0\n",
    "    while True:\n",
    "        iter += 1\n",
    "        l.append(x[0])\n",
    "        x_new = (x - (J.inv()*f).subs([(C_a, x[0]), (T, x[1]), (Tj, x[2])]))\n",
    "        #rounding off to the number of decimal places in tolerance\n",
    "        x_new = sp.Matrix([round(x_new[0].evalf(), decimal_places), round(x_new[1].evalf(), decimal_places), round(x_new[2].evalf(), decimal_places)])\n",
    "        if (abs(x_new[0]-x[0])+abs(x_new[1]-x[1])+abs(x_new[2]-x[2])) < tol:\n",
    "            break\n",
    "        x = x_new\n",
    "    l.append(iter)\n",
    "    return x_new"
   ]
  },
  {
   "cell_type": "code",
   "execution_count": 92,
   "metadata": {},
   "outputs": [
    {
     "name": "stdout",
     "output_type": "stream",
     "text": [
      "Matrix([[8.9685614], [308.7269610], [299.7878268]])\n",
      "Time taken: 6.019582033157349\n"
     ]
    },
    {
     "data": {
      "image/png": "[encoded data removed]",
      "text/plain": [
       "<Figure size 640x480 with 1 Axes>"
      ]
     },
     "metadata": {},
     "output_type": "display_data"
    }
   ],
   "source": [
    "initial_guess = sp.Matrix([0.5, 300, 300])\n",
    "tol = 1e-6\n",
    "start = time.time()\n",
    "l = []\n",
    "print(newton_raphson(f, J, initial_guess, l, tol))\n",
    "end = time.time()\n",
    "print(\"Time taken:\", end - start)\n",
    "# print(\"i:\", i)\n",
    "plt.xlabel(\"Iter\")\n",
    "plt.ylabel(\"Val\")\n",
    "plt.title(\"Values v/s Iter Graph\")\n",
    "# plt.xticks(np.arange(1,11,0.5))\n",
    "iter = np.arange(1, l[-1]+1)\n",
    "plt.plot(iter, l[:-1], color= 'red')\n",
    "plt.grid()\n",
    "plt.show()"
   ]
  },
  {
   "cell_type": "code",
   "execution_count": 93,
   "metadata": {},
   "outputs": [
    {
     "name": "stdout",
     "output_type": "stream",
     "text": [
      "Matrix([[6.1649622], [337.8843926], [304.6473988]])\n",
      "Time taken: 6.757561445236206\n"
     ]
    },
    {
     "data": {
      "image/png": "[encoded data removed]",
      "text/plain": [
       "<Figure size 640x480 with 1 Axes>"
      ]
     },
     "metadata": {},
     "output_type": "display_data"
    }
   ],
   "source": [
    "initial_guess = sp.Matrix([1, 350, 300])\n",
    "tol = 1e-6\n",
    "start = time.time()\n",
    "l = []\n",
    "print(newton_raphson(f, J, initial_guess, l, tol))\n",
    "end = time.time()\n",
    "print(\"Time taken:\", end - start)\n",
    "plt.xlabel(\"Iter\")\n",
    "plt.ylabel(\"Val\")\n",
    "plt.title(\"Values v/s Iter Graph\")\n",
    "# plt.xticks(np.arange(1,11,0.5))\n",
    "iter = np.arange(1, l[-1]+1)\n",
    "plt.plot(iter, l[:-1], color= 'red')\n",
    "plt.grid()\n",
    "plt.show()"
   ]
  },
  {
   "cell_type": "code",
   "execution_count": 94,
   "metadata": {},
   "outputs": [
    {
     "name": "stdout",
     "output_type": "stream",
     "text": [
      "Matrix([[1.4093933], [387.3423098], [312.8903850]])\n",
      "Time taken: 7.4463934898376465\n"
     ]
    },
    {
     "data": {
      "image/png": "[encoded data removed]",
      "text/plain": [
       "<Figure size 640x480 with 1 Axes>"
      ]
     },
     "metadata": {},
     "output_type": "display_data"
    }
   ],
   "source": [
    "initial_guess = sp.Matrix([0.2, 400, 310])\n",
    "tol = 1e-6\n",
    "start = time.time()\n",
    "l = []\n",
    "print(newton_raphson(f, J, initial_guess, l, tol))\n",
    "end = time.time()\n",
    "print(\"Time taken:\", end - start)\n",
    "plt.xlabel(\"Iter\")\n",
    "plt.ylabel(\"Val\")\n",
    "plt.title(\"Values v/s Iter Graph\")\n",
    "# plt.xticks(np.arange(1,11,0.5))\n",
    "iter = np.arange(1, l[-1]+1)\n",
    "plt.plot(iter, l[:-1], color= 'red')\n",
    "plt.grid()\n",
    "plt.show()"
   ]
  },
  {
   "cell_type": "code",
   "execution_count": 99,
   "metadata": {},
   "outputs": [
    {
     "name": "stdout",
     "output_type": "stream",
     "text": [
      "Matrix([[6.1649622], [337.8843926], [304.6473988]])\n",
      "Time taken: 7.139143466949463\n"
     ]
    },
    {
     "data": {
      "image/png": "[encoded data removed]",
      "text/plain": [
       "<Figure size 640x480 with 1 Axes>"
      ]
     },
     "metadata": {},
     "output_type": "display_data"
    }
   ],
   "source": [
    "initial_guess = sp.Matrix([6, 350, 300])\n",
    "tol = 1e-6\n",
    "start = time.time()\n",
    "l = []\n",
    "print(newton_raphson(f, J, initial_guess, l, tol))\n",
    "end = time.time()\n",
    "print(\"Time taken:\", end - start)\n",
    "plt.xlabel(\"Iter\")\n",
    "plt.ylabel(\"Val\")\n",
    "plt.title(\"Values v/s Iter Graph\")\n",
    "# plt.xticks(np.arange(1,11,0.5))\n",
    "iter = np.arange(1, l[-1]+1)\n",
    "plt.plot(iter, l[:-1], color= 'red')\n",
    "plt.grid()\n",
    "plt.show()"
   ]
  },
  {
   "cell_type": "code",
   "execution_count": 82,
   "metadata": {},
   "outputs": [
    {
     "data": {
      "text/latex": [
       "$\\displaystyle \\left[\\begin{matrix}-0.450145653973994\\\\175.946750830975\\\\-6750.0\\end{matrix}\\right]$"
      ],
      "text/plain": [
       "Matrix([\n",
       "[-0.450145653973994],\n",
       "[  175.946750830975],\n",
       "[           -6750.0]])"
      ]
     },
     "execution_count": 82,
     "metadata": {},
     "output_type": "execute_result"
    }
   ],
   "source": [
    "fnew = f.subs([(C_a, x[0]), (T, x[1]), (Tj, x[2])])\n",
    "fnew"
   ]
  },
  {
   "cell_type": "code",
   "execution_count": 83,
   "metadata": {},
   "outputs": [
    {
     "data": {
      "text/latex": [
       "$\\displaystyle \\left[\\begin{matrix}- 1.0 C_{a} - 36000000.0 C_{a} e^{- \\frac{6039.25515853045}{T}} + 10.0\\\\234000000000.0 C_{a} e^{- \\frac{6039.25515853045}{T}} - 650.0 T + 150.0 T_{j} + 149000.0\\\\150.0 T - 900.0 T_{j} + 223500.0\\end{matrix}\\right]$"
      ],
      "text/plain": [
       "Matrix([\n",
       "[                   -1.0*C_a - 36000000.0*C_a*exp(-6039.25515853045/T) + 10.0],\n",
       "[234000000000.0*C_a*exp(-6039.25515853045/T) - 650.0*T + 150.0*T_j + 149000.0],\n",
       "[                                              150.0*T - 900.0*T_j + 223500.0]])"
      ]
     },
     "execution_count": 83,
     "metadata": {},
     "output_type": "execute_result"
    }
   ],
   "source": [
    "f"
   ]
  },
  {
   "cell_type": "code",
   "execution_count": null,
   "metadata": {},
   "outputs": [],
   "source": []
  }
 ],
 "metadata": {
  "kernelspec": {
   "display_name": "Python 3",
   "language": "python",
   "name": "python3"
  },
  "language_info": {
   "codemirror_mode": {
    "name": "ipython",
    "version": 3
   },
   "file_extension": ".py",
   "mimetype": "text/x-python",
   "name": "python",
   "nbconvert_exporter": "python",
   "pygments_lexer": "ipython3",
   "version": "3.8.10"
  },
  "orig_nbformat": 4,
  "vscode": {
   "interpreter": {
    "hash": "916dbcbb3f70747c44a77c7bcd40155683ae19c65e1c03b4aa3499c5328201f1"
   }
  }
 },
 "nbformat": 4,
 "nbformat_minor": 2
}
